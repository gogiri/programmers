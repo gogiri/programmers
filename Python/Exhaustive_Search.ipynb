{
 "cells": [
  {
   "cell_type": "markdown",
   "metadata": {},
   "source": [
    "### 모의고사\n",
    "\n",
    "문제 설명\n",
    "수포자는 수학을 포기한 사람의 준말입니다. 수포자 삼인방은 모의고사에 수학 문제를 전부 찍으려 합니다. 수포자는 1번 문제부터 마지막 문제까지 다음과 같이 찍습니다.\n",
    "\n",
    "1번 수포자가 찍는 방식: 1, 2, 3, 4, 5, 1, 2, 3, 4, 5, ...\n",
    "2번 수포자가 찍는 방식: 2, 1, 2, 3, 2, 4, 2, 5, 2, 1, 2, 3, 2, 4, 2, 5, ...\n",
    "3번 수포자가 찍는 방식: 3, 3, 1, 1, 2, 2, 4, 4, 5, 5, 3, 3, 1, 1, 2, 2, 4, 4, 5, 5, ...\n",
    "\n",
    "1번 문제부터 마지막 문제까지의 정답이 순서대로 들은 배열 answers가 주어졌을 때, 가장 많은 문제를 맞힌 사람이 누구인지 배열에 담아 return 하도록 solution 함수를 작성해주세요.\n",
    "\n",
    "제한 조건\n",
    "시험은 최대 10,000 문제로 구성되어있습니다.\n",
    "문제의 정답은 1, 2, 3, 4, 5중 하나입니다.\n",
    "가장 높은 점수를 받은 사람이 여럿일 경우, return하는 값을 오름차순 정렬해주세요.\n",
    "\n",
    "입출력 예\n",
    "\n",
    "answers\treturn\n",
    "\n",
    "[1,2,3,4,5]\t[1]\n",
    "\n",
    "[1,3,2,4,2]\t[1,2,3]\n",
    "\n",
    "입출력 예 설명\n",
    "\n",
    "입출력 예 #1\n",
    "\n",
    "수포자 1은 모든 문제를 맞혔습니다.\n",
    "수포자 2는 모든 문제를 틀렸습니다.\n",
    "수포자 3은 모든 문제를 틀렸습니다.\n",
    "따라서 가장 문제를 많이 맞힌 사람은 수포자 1입니다.\n",
    "\n",
    "입출력 예 #2\n",
    "\n",
    "모든 사람이 2문제씩을 맞췄습니다."
   ]
  },
  {
   "cell_type": "code",
   "execution_count": 1,
   "metadata": {},
   "outputs": [],
   "source": [
    "def solution(answers):\n",
    "    answer = []\n",
    "    a = [1, 2, 3, 4, 5]\n",
    "    b = [2, 1, 2, 3, 2, 4, 2, 5]\n",
    "    c = [3, 3, 1, 1, 2, 2, 4, 4, 5, 5]\n",
    "    people = [0, 0, 0]\n",
    "    \n",
    "    for i in range(len(answers)):\n",
    "        if a[i%5] == answers[i]:\n",
    "            people[0] += 1\n",
    "        if b[i%8] == answers[i]:\n",
    "            people[1] += 1\n",
    "        if c[i%10] == answers[i]:\n",
    "            people[2] += 1\n",
    "\n",
    "    A = max(people)\n",
    "    for i in range(len(people)):\n",
    "        if people[i] == A:\n",
    "            answer.append(i+1)\n",
    "    return answer"
   ]
  },
  {
   "cell_type": "code",
   "execution_count": 2,
   "metadata": {},
   "outputs": [
    {
     "data": {
      "text/plain": [
       "[1]"
      ]
     },
     "execution_count": 2,
     "metadata": {},
     "output_type": "execute_result"
    }
   ],
   "source": [
    "answers = [1,2,3,4,5]\n",
    "solution(answers)"
   ]
  },
  {
   "cell_type": "code",
   "execution_count": 3,
   "metadata": {},
   "outputs": [
    {
     "data": {
      "text/plain": [
       "[1, 2, 3]"
      ]
     },
     "execution_count": 3,
     "metadata": {},
     "output_type": "execute_result"
    }
   ],
   "source": [
    "answers = [1,3,2,4,2]\n",
    "solution(answers)"
   ]
  },
  {
   "cell_type": "markdown",
   "metadata": {},
   "source": [
    "### 소수 찾기\n",
    "\n",
    "문제 설명\n",
    "한자리 숫자가 적힌 종이 조각이 흩어져있습니다. 흩어진 종이 조각을 붙여 소수를 몇 개 만들 수 있는지 알아내려 합니다.\n",
    "\n",
    "각 종이 조각에 적힌 숫자가 적힌 문자열 numbers가 주어졌을 때, 종이 조각으로 만들 수 있는 소수가 몇 개인지 return 하도록 solution 함수를 완성해주세요.\n",
    "\n",
    "제한사항\n",
    "numbers는 길이 1 이상 7 이하인 문자열입니다.\n",
    "numbers는 0~9까지 숫자만으로 이루어져 있습니다.\n",
    "\"013\"은 0, 1, 3 숫자가 적힌 종이 조각이 흩어져있다는 의미입니다.\n",
    "\n",
    "입출력 예\n",
    "\n",
    "numbers\treturn\n",
    "\n",
    "\"17\"\t3\n",
    "\n",
    "\"011\"\t2\n",
    "\n",
    "입출력 예 설명\n",
    "\n",
    "예제 #1\n",
    "[1, 7]으로는 소수 [7, 17, 71]를 만들 수 있습니다.\n",
    "\n",
    "예제 #2\n",
    "[0, 1, 1]으로는 소수 [11, 101]를 만들 수 있습니다.\n",
    "\n",
    "11과 011은 같은 숫자로 취급합니다."
   ]
  },
  {
   "cell_type": "markdown",
   "metadata": {},
   "source": [
    "### Python의 itertools를 이용하면 순열과 조합을 for문 없이 구현할 수 있다.\n",
    "\n",
    "순열\n",
    "permutation\n",
    "순열이란 몇 개를 골라 순서를 고려해 나열한 경우의 수를 말한다. 즉, 서로 다른 n 개 중 r 개를 골라 순서를 정해 나열하는 가짓수이며 순열이라는 의미의 영어 ‘Permutation’의 첫 글자 P를 따서 nPr로 표시한다. 출처 : [네이버 지식백과] 순열 [Permutation, 順列] (두산백과)\n",
    "\n",
    "순열은 순서를 고려하기 때문에 [A, B, C]의 리스트에서 2개의 원소를 골라 순서를 정해 나열하면\n",
    "[(A, B), (A, C), (B, A), (B, C), (C, A), (C, B)] 가 나오게 된다. 즉 순열에서는 (A, B)와 (B, A)는 다른 것이다.\n",
    "\n",
    "import itertools\n",
    "\n",
    "arr = ['A', 'B', 'C']\n",
    "nPr = itertools.permutations(arr, 2)\n",
    "print(list(nPr))\n",
    "\n",
    "결과 : [('A', 'B'), ('A', 'C'), ('B', 'A'), ('B', 'C'), ('C', 'A'), ('C', 'B')]\n",
    "조합\n",
    "combination\n",
    "조합이란 서로 다른 n개 중에서 r개(n≥r) 취하여 조를 만들 때, 이 하나하나의 조를 n개 중에서 r개 취한 조합이라고 한다. 출처 : [네이버 지식백과] 조합 (두산백과)\n",
    "\n",
    "조합은 순서를 고려하지 않기 때문에 [A, B, C]의 리스트에서 2개의 원소를 골라 나열하면\n",
    "[(A, B), (A, C), (B, C)] 가 나오게 된다. 조합은 (A, B)와 (B, A)는 같은 것으로 취급한다.\n",
    "\n",
    "import itertools\n",
    "\n",
    "arr = ['A', 'B', 'C']\n",
    "nCr = itertools.combinations(arr, 2)\n",
    "print(list(nCr))\n",
    "\n",
    "결과 : [('A', 'B'), ('A', 'C'), ('B', 'C')]\n",
    "이외에 유용한 함수\n",
    "zip()\n",
    "\n",
    "동일한 개수로 이루어진 iterable한 객체들을 인수로 받아 묶어서 iterator로 반환\n",
    "    z = zip([1, 2, 3], ('A', 'B', 'C'))\n",
    "    print(next(z)) # (1, 'A')\n",
    "    print(next(z)) # (2, 'B')\n",
    "    print(next(z)) # (3, 'C')\n",
    "all()\n",
    "\n",
    "iterable한 객체를 인수로 받아서 원소가 모두 참이면 True, 아니면 False를 반환\n",
    "    a = all([1, 2, 3]) # True\n",
    "    a = all([0, 1, 2]) # False\n",
    "any()\n",
    "\n",
    "iterable한 객체를 인수로 받아서 원소가 하나라도 참이면 True, 아니면 False를 반환\n",
    "    a = any([0, 1, 2]) # True\n",
    "    a = any([0, False, []] # False\n",
    "chain()\n",
    "\n",
    "iterable한 객체들을 인수로 받아 하나의 iterator로 반환\n",
    "    c1 = [1, 2]\n",
    "    ca = ['A', 'B']\n",
    "    c = itertools.chain(c1, ca)\n",
    "    print(next(c)) # 1\n",
    "    print(next(c)) # 2\n",
    "    print(next(c)) # A\n",
    "    print(next(c)) # B"
   ]
  },
  {
   "cell_type": "code",
   "execution_count": 4,
   "metadata": {},
   "outputs": [],
   "source": [
    "from itertools import permutations\n",
    "\n",
    "def solution(numbers):\n",
    "    answer = []                                   \n",
    "    nums = [n for n in numbers]                   # numbers를 하나씩 자른 것\n",
    "    per = []                                      \n",
    "    for i in range(1, len(numbers)+1):            # numbers의 각 숫자들을 순열로 모든 경우 만들기\n",
    "        per += list(permutations(nums, i))        # i개씩 순열조합\n",
    "    new_nums = [int((\"\").join(p)) for p in per]   # 각 순열조합을 하나의 int형 숫자로 변환\n",
    "\n",
    "    for n in new_nums:                            # 모든 int형 숫자에 대해 소수인지 판별\n",
    "        if n < 2:                                 # 2보다 작은 1,0의 경우 소수 아님\n",
    "            continue\n",
    "        check = True            \n",
    "        for i in range(2,int(n**0.5) + 1):        # n의 제곱근 보다 작은 숫자까지만 나눗셈\n",
    "            if n % i == 0:                        # 하나라도 나눠떨어진다면 소수 아님\n",
    "                check = False\n",
    "                break\n",
    "        if check:\n",
    "            answer.append(n)                      # 소수일경우 answer 배열에 추가\n",
    "\n",
    "    return len(set(answer))                       # set을 통해 중복 제거 후 반환"
   ]
  },
  {
   "cell_type": "code",
   "execution_count": 5,
   "metadata": {},
   "outputs": [
    {
     "data": {
      "text/plain": [
       "3"
      ]
     },
     "execution_count": 5,
     "metadata": {},
     "output_type": "execute_result"
    }
   ],
   "source": [
    "numbers = \"17\"\n",
    "solution(numbers)"
   ]
  },
  {
   "cell_type": "code",
   "execution_count": 6,
   "metadata": {},
   "outputs": [
    {
     "data": {
      "text/plain": [
       "2"
      ]
     },
     "execution_count": 6,
     "metadata": {},
     "output_type": "execute_result"
    }
   ],
   "source": [
    "numbers = \"011\"\n",
    "solution(numbers)"
   ]
  },
  {
   "cell_type": "code",
   "execution_count": null,
   "metadata": {},
   "outputs": [],
   "source": []
  }
 ],
 "metadata": {
  "kernelspec": {
   "display_name": "Python 3",
   "language": "python",
   "name": "python3"
  },
  "language_info": {
   "codemirror_mode": {
    "name": "ipython",
    "version": 3
   },
   "file_extension": ".py",
   "mimetype": "text/x-python",
   "name": "python",
   "nbconvert_exporter": "python",
   "pygments_lexer": "ipython3",
   "version": "3.9.0rc1"
  }
 },
 "nbformat": 4,
 "nbformat_minor": 2
}
